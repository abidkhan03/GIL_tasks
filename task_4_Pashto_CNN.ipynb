{
 "cells": [
  {
   "cell_type": "code",
   "execution_count": 1,
   "metadata": {},
   "outputs": [],
   "source": [
    "# Task 4 \n",
    "\"\"\"\n",
    "    Download the following dataset (PASHTO-HW-DATASET from kaggle)\n",
    "    and train it with CNN network. HINT: The dataset is binary format. Save any\n",
    "    trained model and burn it in Raspberry PI to classify the input images.\n",
    "\"\"\"\n",
    "\n",
    "import pandas as pd\n",
    "import numpy as np\n",
    "import matplotlib.pyplot as plt\n",
    "import cv2\n",
    "import os"
   ]
  },
  {
   "cell_type": "code",
   "execution_count": 2,
   "metadata": {},
   "outputs": [],
   "source": [
    "# Read the first dataset\n",
    "data = pd.read_csv('pashto_alpha_num_hw.csv')"
   ]
  },
  {
   "cell_type": "code",
   "execution_count": 3,
   "metadata": {},
   "outputs": [
    {
     "data": {
      "text/html": [
       "<div>\n",
       "<style scoped>\n",
       "    .dataframe tbody tr th:only-of-type {\n",
       "        vertical-align: middle;\n",
       "    }\n",
       "\n",
       "    .dataframe tbody tr th {\n",
       "        vertical-align: top;\n",
       "    }\n",
       "\n",
       "    .dataframe thead th {\n",
       "        text-align: right;\n",
       "    }\n",
       "</style>\n",
       "<table border=\"1\" class=\"dataframe\">\n",
       "  <thead>\n",
       "    <tr style=\"text-align: right;\">\n",
       "      <th></th>\n",
       "      <th>alif</th>\n",
       "      <th>0</th>\n",
       "      <th>0.1</th>\n",
       "      <th>0.2</th>\n",
       "      <th>0.3</th>\n",
       "      <th>0.4</th>\n",
       "      <th>0.5</th>\n",
       "      <th>0.6</th>\n",
       "      <th>0.7</th>\n",
       "      <th>0.8</th>\n",
       "      <th>...</th>\n",
       "      <th>0.988</th>\n",
       "      <th>0.989</th>\n",
       "      <th>0.990</th>\n",
       "      <th>0.991</th>\n",
       "      <th>0.992</th>\n",
       "      <th>0.993</th>\n",
       "      <th>0.994</th>\n",
       "      <th>0.995</th>\n",
       "      <th>0.996</th>\n",
       "      <th>0.997</th>\n",
       "    </tr>\n",
       "  </thead>\n",
       "  <tbody>\n",
       "    <tr>\n",
       "      <th>0</th>\n",
       "      <td>alif</td>\n",
       "      <td>0</td>\n",
       "      <td>0</td>\n",
       "      <td>0</td>\n",
       "      <td>0</td>\n",
       "      <td>0</td>\n",
       "      <td>0</td>\n",
       "      <td>0</td>\n",
       "      <td>0</td>\n",
       "      <td>0</td>\n",
       "      <td>...</td>\n",
       "      <td>0</td>\n",
       "      <td>0</td>\n",
       "      <td>0</td>\n",
       "      <td>0</td>\n",
       "      <td>0</td>\n",
       "      <td>0</td>\n",
       "      <td>0</td>\n",
       "      <td>0</td>\n",
       "      <td>0</td>\n",
       "      <td>0</td>\n",
       "    </tr>\n",
       "    <tr>\n",
       "      <th>1</th>\n",
       "      <td>alif</td>\n",
       "      <td>0</td>\n",
       "      <td>0</td>\n",
       "      <td>0</td>\n",
       "      <td>0</td>\n",
       "      <td>0</td>\n",
       "      <td>0</td>\n",
       "      <td>0</td>\n",
       "      <td>0</td>\n",
       "      <td>0</td>\n",
       "      <td>...</td>\n",
       "      <td>0</td>\n",
       "      <td>0</td>\n",
       "      <td>0</td>\n",
       "      <td>0</td>\n",
       "      <td>0</td>\n",
       "      <td>0</td>\n",
       "      <td>0</td>\n",
       "      <td>0</td>\n",
       "      <td>0</td>\n",
       "      <td>183</td>\n",
       "    </tr>\n",
       "    <tr>\n",
       "      <th>2</th>\n",
       "      <td>alif</td>\n",
       "      <td>0</td>\n",
       "      <td>0</td>\n",
       "      <td>0</td>\n",
       "      <td>0</td>\n",
       "      <td>0</td>\n",
       "      <td>0</td>\n",
       "      <td>0</td>\n",
       "      <td>0</td>\n",
       "      <td>0</td>\n",
       "      <td>...</td>\n",
       "      <td>0</td>\n",
       "      <td>0</td>\n",
       "      <td>0</td>\n",
       "      <td>0</td>\n",
       "      <td>0</td>\n",
       "      <td>0</td>\n",
       "      <td>0</td>\n",
       "      <td>0</td>\n",
       "      <td>0</td>\n",
       "      <td>0</td>\n",
       "    </tr>\n",
       "    <tr>\n",
       "      <th>3</th>\n",
       "      <td>alif</td>\n",
       "      <td>0</td>\n",
       "      <td>0</td>\n",
       "      <td>0</td>\n",
       "      <td>0</td>\n",
       "      <td>0</td>\n",
       "      <td>0</td>\n",
       "      <td>0</td>\n",
       "      <td>0</td>\n",
       "      <td>0</td>\n",
       "      <td>...</td>\n",
       "      <td>0</td>\n",
       "      <td>0</td>\n",
       "      <td>0</td>\n",
       "      <td>0</td>\n",
       "      <td>0</td>\n",
       "      <td>0</td>\n",
       "      <td>0</td>\n",
       "      <td>0</td>\n",
       "      <td>0</td>\n",
       "      <td>0</td>\n",
       "    </tr>\n",
       "    <tr>\n",
       "      <th>4</th>\n",
       "      <td>alif</td>\n",
       "      <td>0</td>\n",
       "      <td>0</td>\n",
       "      <td>0</td>\n",
       "      <td>0</td>\n",
       "      <td>0</td>\n",
       "      <td>0</td>\n",
       "      <td>0</td>\n",
       "      <td>0</td>\n",
       "      <td>0</td>\n",
       "      <td>...</td>\n",
       "      <td>0</td>\n",
       "      <td>0</td>\n",
       "      <td>0</td>\n",
       "      <td>0</td>\n",
       "      <td>0</td>\n",
       "      <td>0</td>\n",
       "      <td>0</td>\n",
       "      <td>0</td>\n",
       "      <td>0</td>\n",
       "      <td>0</td>\n",
       "    </tr>\n",
       "  </tbody>\n",
       "</table>\n",
       "<p>5 rows × 1025 columns</p>\n",
       "</div>"
      ],
      "text/plain": [
       "   alif  0  0.1  0.2  0.3  0.4  0.5  0.6  0.7  0.8  ...  0.988  0.989  0.990  \\\n",
       "0  alif  0    0    0    0    0    0    0    0    0  ...      0      0      0   \n",
       "1  alif  0    0    0    0    0    0    0    0    0  ...      0      0      0   \n",
       "2  alif  0    0    0    0    0    0    0    0    0  ...      0      0      0   \n",
       "3  alif  0    0    0    0    0    0    0    0    0  ...      0      0      0   \n",
       "4  alif  0    0    0    0    0    0    0    0    0  ...      0      0      0   \n",
       "\n",
       "   0.991  0.992  0.993  0.994  0.995  0.996  0.997  \n",
       "0      0      0      0      0      0      0      0  \n",
       "1      0      0      0      0      0      0    183  \n",
       "2      0      0      0      0      0      0      0  \n",
       "3      0      0      0      0      0      0      0  \n",
       "4      0      0      0      0      0      0      0  \n",
       "\n",
       "[5 rows x 1025 columns]"
      ]
     },
     "execution_count": 3,
     "metadata": {},
     "output_type": "execute_result"
    }
   ],
   "source": [
    "data.head()"
   ]
  },
  {
   "cell_type": "code",
   "execution_count": 4,
   "metadata": {},
   "outputs": [
    {
     "data": {
      "text/plain": [
       "(37869, 1025)"
      ]
     },
     "execution_count": 4,
     "metadata": {},
     "output_type": "execute_result"
    }
   ],
   "source": [
    "data.shape"
   ]
  },
  {
   "cell_type": "code",
   "execution_count": 5,
   "metadata": {},
   "outputs": [
    {
     "data": {
      "text/plain": [
       "Index(['alif', '0', '0.1', '0.2', '0.3', '0.4', '0.5', '0.6', '0.7', '0.8',\n",
       "       ...\n",
       "       '0.988', '0.989', '0.990', '0.991', '0.992', '0.993', '0.994', '0.995',\n",
       "       '0.996', '0.997'],\n",
       "      dtype='object', length=1025)"
      ]
     },
     "execution_count": 5,
     "metadata": {},
     "output_type": "execute_result"
    }
   ],
   "source": [
    "column = data.columns\n",
    "column"
   ]
  },
  {
   "cell_type": "code",
   "execution_count": 6,
   "metadata": {},
   "outputs": [],
   "source": [
    "# create new dataframe images with label\n",
    "label = data[column[0]].values\n",
    "images = data[column[1:]].values"
   ]
  },
  {
   "cell_type": "code",
   "execution_count": 7,
   "metadata": {},
   "outputs": [
    {
     "data": {
      "text/plain": [
       "array(['alif', 'alif', 'alif', ..., 'las', 'las', 'las'], dtype=object)"
      ]
     },
     "execution_count": 7,
     "metadata": {},
     "output_type": "execute_result"
    }
   ],
   "source": [
    "label"
   ]
  },
  {
   "cell_type": "code",
   "execution_count": 8,
   "metadata": {},
   "outputs": [
    {
     "data": {
      "text/plain": [
       "array([[  0,   0,   0, ...,   0,   0,   0],\n",
       "       [  0,   0,   0, ...,   0,   0, 183],\n",
       "       [  0,   0,   0, ...,   0,   0,   0],\n",
       "       ...,\n",
       "       [  0,   0,   0, ...,   0,   0,   0],\n",
       "       [  0,   0,   0, ...,   0,   0,   0],\n",
       "       [  0,   0,   0, ...,   0,   0,   0]], dtype=int64)"
      ]
     },
     "execution_count": 8,
     "metadata": {},
     "output_type": "execute_result"
    }
   ],
   "source": [
    "images"
   ]
  },
  {
   "cell_type": "code",
   "execution_count": 9,
   "metadata": {},
   "outputs": [],
   "source": [
    "# reshape the images and save in a new directory\n",
    "for i, (lab, img) in enumerate(zip(label, images)):\n",
    "    img = img.reshape(32, 32)\n",
    "    if os.path.exists('images/{}'.format(lab)):\n",
    "        cv2.imwrite('images/{}/{}.jpg'.format(lab, i), img)\n",
    "    else:\n",
    "        os.makedirs('images/{}'.format(lab))\n",
    "        cv2.imwrite('images/{}/{}.jpg'.format(lab, i), img)"
   ]
  },
  {
   "cell_type": "code",
   "execution_count": 11,
   "metadata": {},
   "outputs": [
    {
     "data": {
      "text/plain": [
       "<matplotlib.image.AxesImage at 0x21d39af6ee0>"
      ]
     },
     "execution_count": 11,
     "metadata": {},
     "output_type": "execute_result"
    },
    {
     "data": {
      "image/png": "[encoded data removed]",
      "text/plain": [
       "<Figure size 432x288 with 1 Axes>"
      ]
     },
     "metadata": {
      "needs_background": "light"
     },
     "output_type": "display_data"
    }
   ],
   "source": [
    "image1 = cv2.imread('images/alif/6.jpg')\n",
    "plt.imshow(image1)"
   ]
  },
  {
   "cell_type": "code",
   "execution_count": 12,
   "metadata": {},
   "outputs": [
    {
     "data": {
      "text/html": [
       "<div>\n",
       "<style scoped>\n",
       "    .dataframe tbody tr th:only-of-type {\n",
       "        vertical-align: middle;\n",
       "    }\n",
       "\n",
       "    .dataframe tbody tr th {\n",
       "        vertical-align: top;\n",
       "    }\n",
       "\n",
       "    .dataframe thead th {\n",
       "        text-align: right;\n",
       "    }\n",
       "</style>\n",
       "<table border=\"1\" class=\"dataframe\">\n",
       "  <thead>\n",
       "    <tr style=\"text-align: right;\">\n",
       "      <th></th>\n",
       "      <th>Label</th>\n",
       "      <th>Pixel0</th>\n",
       "      <th>Pixel1</th>\n",
       "      <th>Pixel2</th>\n",
       "      <th>Pixel3</th>\n",
       "      <th>Pixel4</th>\n",
       "      <th>Pixel5</th>\n",
       "      <th>Pixel6</th>\n",
       "      <th>Pixel7</th>\n",
       "      <th>Pixel8</th>\n",
       "      <th>...</th>\n",
       "      <th>Pixel1014</th>\n",
       "      <th>Pixel1015</th>\n",
       "      <th>Pixel1016</th>\n",
       "      <th>Pixel1017</th>\n",
       "      <th>Pixel1018</th>\n",
       "      <th>Pixel1019</th>\n",
       "      <th>Pixel1020</th>\n",
       "      <th>Pixel1021</th>\n",
       "      <th>Pixel1022</th>\n",
       "      <th>Pixel1023</th>\n",
       "    </tr>\n",
       "  </thead>\n",
       "  <tbody>\n",
       "    <tr>\n",
       "      <th>0</th>\n",
       "      <td>yay</td>\n",
       "      <td>0</td>\n",
       "      <td>0</td>\n",
       "      <td>0</td>\n",
       "      <td>0</td>\n",
       "      <td>0</td>\n",
       "      <td>0</td>\n",
       "      <td>0</td>\n",
       "      <td>0</td>\n",
       "      <td>0</td>\n",
       "      <td>...</td>\n",
       "      <td>0</td>\n",
       "      <td>0</td>\n",
       "      <td>0</td>\n",
       "      <td>0</td>\n",
       "      <td>0</td>\n",
       "      <td>0</td>\n",
       "      <td>0</td>\n",
       "      <td>0</td>\n",
       "      <td>0</td>\n",
       "      <td>0</td>\n",
       "    </tr>\n",
       "    <tr>\n",
       "      <th>1</th>\n",
       "      <td>yay</td>\n",
       "      <td>0</td>\n",
       "      <td>0</td>\n",
       "      <td>0</td>\n",
       "      <td>0</td>\n",
       "      <td>0</td>\n",
       "      <td>0</td>\n",
       "      <td>0</td>\n",
       "      <td>0</td>\n",
       "      <td>0</td>\n",
       "      <td>...</td>\n",
       "      <td>0</td>\n",
       "      <td>0</td>\n",
       "      <td>0</td>\n",
       "      <td>0</td>\n",
       "      <td>0</td>\n",
       "      <td>0</td>\n",
       "      <td>0</td>\n",
       "      <td>0</td>\n",
       "      <td>0</td>\n",
       "      <td>0</td>\n",
       "    </tr>\n",
       "    <tr>\n",
       "      <th>2</th>\n",
       "      <td>yay</td>\n",
       "      <td>0</td>\n",
       "      <td>0</td>\n",
       "      <td>0</td>\n",
       "      <td>0</td>\n",
       "      <td>0</td>\n",
       "      <td>0</td>\n",
       "      <td>0</td>\n",
       "      <td>0</td>\n",
       "      <td>0</td>\n",
       "      <td>...</td>\n",
       "      <td>0</td>\n",
       "      <td>0</td>\n",
       "      <td>0</td>\n",
       "      <td>0</td>\n",
       "      <td>0</td>\n",
       "      <td>0</td>\n",
       "      <td>0</td>\n",
       "      <td>0</td>\n",
       "      <td>0</td>\n",
       "      <td>0</td>\n",
       "    </tr>\n",
       "    <tr>\n",
       "      <th>3</th>\n",
       "      <td>yay</td>\n",
       "      <td>0</td>\n",
       "      <td>0</td>\n",
       "      <td>0</td>\n",
       "      <td>0</td>\n",
       "      <td>0</td>\n",
       "      <td>0</td>\n",
       "      <td>0</td>\n",
       "      <td>0</td>\n",
       "      <td>0</td>\n",
       "      <td>...</td>\n",
       "      <td>0</td>\n",
       "      <td>0</td>\n",
       "      <td>0</td>\n",
       "      <td>0</td>\n",
       "      <td>0</td>\n",
       "      <td>0</td>\n",
       "      <td>0</td>\n",
       "      <td>0</td>\n",
       "      <td>0</td>\n",
       "      <td>0</td>\n",
       "    </tr>\n",
       "    <tr>\n",
       "      <th>4</th>\n",
       "      <td>yay</td>\n",
       "      <td>0</td>\n",
       "      <td>0</td>\n",
       "      <td>0</td>\n",
       "      <td>0</td>\n",
       "      <td>0</td>\n",
       "      <td>0</td>\n",
       "      <td>0</td>\n",
       "      <td>0</td>\n",
       "      <td>0</td>\n",
       "      <td>...</td>\n",
       "      <td>0</td>\n",
       "      <td>0</td>\n",
       "      <td>0</td>\n",
       "      <td>0</td>\n",
       "      <td>0</td>\n",
       "      <td>0</td>\n",
       "      <td>0</td>\n",
       "      <td>0</td>\n",
       "      <td>0</td>\n",
       "      <td>0</td>\n",
       "    </tr>\n",
       "  </tbody>\n",
       "</table>\n",
       "<p>5 rows × 1025 columns</p>\n",
       "</div>"
      ],
      "text/plain": [
       "  Label  Pixel0  Pixel1  Pixel2  Pixel3  Pixel4  Pixel5  Pixel6  Pixel7  \\\n",
       "0   yay       0       0       0       0       0       0       0       0   \n",
       "1   yay       0       0       0       0       0       0       0       0   \n",
       "2   yay       0       0       0       0       0       0       0       0   \n",
       "3   yay       0       0       0       0       0       0       0       0   \n",
       "4   yay       0       0       0       0       0       0       0       0   \n",
       "\n",
       "   Pixel8  ...  Pixel1014  Pixel1015  Pixel1016  Pixel1017  Pixel1018  \\\n",
       "0       0  ...          0          0          0          0          0   \n",
       "1       0  ...          0          0          0          0          0   \n",
       "2       0  ...          0          0          0          0          0   \n",
       "3       0  ...          0          0          0          0          0   \n",
       "4       0  ...          0          0          0          0          0   \n",
       "\n",
       "   Pixel1019  Pixel1020  Pixel1021  Pixel1022  Pixel1023  \n",
       "0          0          0          0          0          0  \n",
       "1          0          0          0          0          0  \n",
       "2          0          0          0          0          0  \n",
       "3          0          0          0          0          0  \n",
       "4          0          0          0          0          0  \n",
       "\n",
       "[5 rows x 1025 columns]"
      ]
     },
     "execution_count": 12,
     "metadata": {},
     "output_type": "execute_result"
    }
   ],
   "source": [
    "# Read the second dataset\n",
    "df = pd.read_csv('pashto_chrs_printed.csv')\n",
    "df.head()"
   ]
  },
  {
   "cell_type": "code",
   "execution_count": 13,
   "metadata": {},
   "outputs": [
    {
     "data": {
      "text/plain": [
       "(2568, 1025)"
      ]
     },
     "execution_count": 13,
     "metadata": {},
     "output_type": "execute_result"
    }
   ],
   "source": [
    "df.shape"
   ]
  },
  {
   "cell_type": "code",
   "execution_count": 14,
   "metadata": {},
   "outputs": [
    {
     "data": {
      "text/plain": [
       "Index(['Label', 'Pixel0', 'Pixel1', 'Pixel2', 'Pixel3', 'Pixel4', 'Pixel5',\n",
       "       'Pixel6', 'Pixel7', 'Pixel8',\n",
       "       ...\n",
       "       'Pixel1014', 'Pixel1015', 'Pixel1016', 'Pixel1017', 'Pixel1018',\n",
       "       'Pixel1019', 'Pixel1020', 'Pixel1021', 'Pixel1022', 'Pixel1023'],\n",
       "      dtype='object', length=1025)"
      ]
     },
     "execution_count": 14,
     "metadata": {},
     "output_type": "execute_result"
    }
   ],
   "source": [
    "column = df.columns\n",
    "column"
   ]
  },
  {
   "cell_type": "code",
   "execution_count": 15,
   "metadata": {},
   "outputs": [],
   "source": [
    "label = df[column[0]].values\n",
    "images = df[column[1:]].values"
   ]
  },
  {
   "cell_type": "code",
   "execution_count": 16,
   "metadata": {},
   "outputs": [
    {
     "data": {
      "text/plain": [
       "(array(['yay', 'yay', 'yay', ..., 'qaaf', 'qaaf', 'qaaf'], dtype=object),\n",
       " array([[0, 0, 0, ..., 0, 0, 0],\n",
       "        [0, 0, 0, ..., 0, 0, 0],\n",
       "        [0, 0, 0, ..., 0, 0, 0],\n",
       "        ...,\n",
       "        [0, 0, 0, ..., 0, 0, 0],\n",
       "        [0, 0, 0, ..., 0, 0, 0],\n",
       "        [0, 0, 0, ..., 0, 0, 0]], dtype=int64))"
      ]
     },
     "execution_count": 16,
     "metadata": {},
     "output_type": "execute_result"
    }
   ],
   "source": [
    "label, images"
   ]
  },
  {
   "cell_type": "code",
   "execution_count": 17,
   "metadata": {},
   "outputs": [],
   "source": [
    "for i, (lab, img) in enumerate(zip(label, images)):\n",
    "    img = img.reshape(32, 32)\n",
    "    if os.path.exists('dataset/{}'.format(lab)):\n",
    "        cv2.imwrite('dataset/{}/{}.jpg'.format(lab, i), img)\n",
    "    else:\n",
    "        os.makedirs('dataset/{}'.format(lab))\n",
    "        cv2.imwrite('dataset/{}/{}.jpg'.format(lab, i), img)"
   ]
  },
  {
   "cell_type": "code",
   "execution_count": 18,
   "metadata": {},
   "outputs": [
    {
     "data": {
      "text/plain": [
       "<matplotlib.image.AxesImage at 0x21d39ba57c0>"
      ]
     },
     "execution_count": 18,
     "metadata": {},
     "output_type": "execute_result"
    },
    {
     "data": {
      "image/png": "[encoded data removed]",
      "text/plain": [
       "<Figure size 432x288 with 1 Axes>"
      ]
     },
     "metadata": {
      "needs_background": "light"
     },
     "output_type": "display_data"
    }
   ],
   "source": [
    "img = cv2.imread('dataset/alif/57.jpg')\n",
    "plt.imshow(img)"
   ]
  },
  {
   "cell_type": "markdown",
   "metadata": {},
   "source": [
    "## Building CNN Model"
   ]
  },
  {
   "cell_type": "code",
   "execution_count": null,
   "metadata": {},
   "outputs": [],
   "source": [
    "from keras.models import Sequential, Model\n",
    "from tensorflow.keras.layers import BatchNormalization\n",
    "from keras.layers.core import Activation\n",
    "from keras.layers.core import Flatten\n",
    "from keras.layers.core import Dropout\n",
    "from keras.layers.core import Dense\n",
    "from keras.layers import Conv2D, MaxPooling2D\n",
    "from keras import layers\n",
    "\n",
    "def model(num_classes, input_shape):\n",
    "    model = Sequential()\n",
    "    # 1st Convolutional Layer\n",
    "    model.add(Conv2D(filters=96, input_shape=input_shape, kernel_size=(11,11), strides=(4,4), padding='valid'))\n",
    "    model.add(Activation('relu'))\n",
    "    # Max Pooling\n",
    "    model.add(MaxPooling2D(pool_size=(3,3), strides=(2,2), padding='valid'))\n",
    "    # 2nd Convolutional Layer\n",
    "    model.add(Conv2D(filters=256, kernel_size=(5,5), strides=(1,1), padding='same'))\n",
    "    model.add(Activation('relu'))\n",
    "    # Max Pooling\n",
    "    model.add(MaxPooling2D(pool_size=(3,3), strides=(2,2), padding='valid'))\n",
    "    # 3rd Convolutional Layer\n",
    "    model.add(Conv2D(filters=384, kernel_size=(3,3), strides=(1,1), padding='same'))\n",
    "    model.add(Activation('relu'))\n",
    "    # 4th Convolutional Layer\n",
    "    model.add(Conv2D(filters=384, kernel_size=(3,3), strides=(1,1), padding='same'))\n",
    "    model.add(Activation('relu'))\n",
    "    # 5th Convolutional Layer\n",
    "    model.add(Conv2D(filters=256, kernel_size=(3,3), strides=(1,1), padding='same'))\n",
    "    model.add(Activation('relu'))\n",
    "    # Max Pooling\n",
    "    model.add(MaxPooling2D(pool_size=(3,3), strides=(2,2), padding='valid'))\n",
    "    # Passing it to a Fully Connected layer\n",
    "    model.add(Flatten())\n",
    "    # 1st Fully Connected Layer\n",
    "    model.add(Dense(4096))\n",
    "    model.add(Activation('relu'))\n",
    "    # Add Dropout to prevent overfitting\n",
    "    model.add(Dropout(0.5))\n",
    "    # 2nd Fully Connected Layer\n",
    "    model.add(Dense(4096))\n",
    "    model.add(Activation('relu'))\n",
    "    # Add Dropout to prevent overfitting\n",
    "    model.add(Dropout(0.5))\n",
    "    # Output Layer\n",
    "    model.add(Dense(num_classes))\n",
    "    model.add(Activation('softmax'))\n",
    "    return model"
   ]
  },
  {
   "cell_type": "code",
   "execution_count": 27,
   "metadata": {},
   "outputs": [],
   "source": [
    "from keras.preprocessing.image import ImageDataGenerator\n",
    "from keras.optimizers import Adam\n",
    "from keras.callbacks import ReduceLROnPlateau\n",
    "import os\n",
    "# Define constants\n",
    "DATASET_PATH = './dataset/'\n",
    "MODEL_PATH = '.'\n",
    "BATCH_SIZE = 128\n",
    "EPOCHS = 50\n",
    "TARGET_WIDTH = 128\n",
    "TARGET_HEIGHT = 128\n",
    "TARGET_DEPTH = 3"
   ]
  },
  {
   "cell_type": "code",
   "execution_count": 28,
   "metadata": {},
   "outputs": [
    {
     "name": "stdout",
     "output_type": "stream",
     "text": [
      "[INFO] Setting up Data Generator...\n",
      "Found 2076 images belonging to 44 classes.\n",
      "Found 492 images belonging to 44 classes.\n"
     ]
    }
   ],
   "source": [
    "# Set up the data generator to flow data from disk\n",
    "print(\"[INFO] Setting up Data Generator...\")\n",
    "data_gen = ImageDataGenerator(validation_split=0.2, rescale=1./255)\n",
    "train_generator = data_gen.flow_from_directory(\n",
    "    DATASET_PATH, \n",
    "    subset='training',\n",
    "    target_size = (TARGET_WIDTH, TARGET_HEIGHT),\n",
    "    batch_size = BATCH_SIZE\n",
    ")\n",
    "val_generator = data_gen.flow_from_directory(\n",
    "    DATASET_PATH,\n",
    "    subset='validation',\n",
    "    target_size = (TARGET_WIDTH, TARGET_HEIGHT),\n",
    "    batch_size = BATCH_SIZE\n",
    ")"
   ]
  },
  {
   "cell_type": "code",
   "execution_count": null,
   "metadata": {},
   "outputs": [],
   "source": [
    "# Build model\n",
    "print(\"[INFO] Compiling model...\")\n",
    "alexnet = model(train_generator.num_classes, (TARGET_WIDTH, TARGET_HEIGHT, TARGET_DEPTH))\n",
    "# Compile the model\n",
    "alexnet.compile(optimizer='adam', loss='categorical_crossentropy', metrics=['accuracy'])"
   ]
  },
  {
   "cell_type": "code",
   "execution_count": 11,
   "metadata": {},
   "outputs": [],
   "source": [
    "# Set the learning rate decay\n",
    "reduce_lr = ReduceLROnPlateau(monitor='loss', factor=0.2, patience=2, min_lr=0.001)"
   ]
  },
  {
   "cell_type": "code",
   "execution_count": 12,
   "metadata": {},
   "outputs": [
    {
     "name": "stdout",
     "output_type": "stream",
     "text": [
      "[INFO] Training network ...\n"
     ]
    },
    {
     "name": "stderr",
     "output_type": "stream",
     "text": [
      "C:\\Users\\Public\\Documents\\Wondershare\\CreatorTemp\\ipykernel_4016\\3565767583.py:3: UserWarning: `Model.fit_generator` is deprecated and will be removed in a future version. Please use `Model.fit`, which supports generators.\n",
      "  H = alexnet.fit_generator(\n"
     ]
    },
    {
     "name": "stdout",
     "output_type": "stream",
     "text": [
      "Epoch 1/20\n",
      "16/16 [==============================] - 49s 3s/step - loss: 3.7943 - accuracy: 0.0210 - val_loss: 3.7837 - val_accuracy: 0.0234 - lr: 0.0010\n",
      "Epoch 2/20\n",
      "16/16 [==============================] - 46s 3s/step - loss: 3.7867 - accuracy: 0.0236 - val_loss: 3.7848 - val_accuracy: 0.0156 - lr: 0.0010\n",
      "Epoch 3/20\n",
      "16/16 [==============================] - 46s 3s/step - loss: 3.7854 - accuracy: 0.0200 - val_loss: 3.7850 - val_accuracy: 0.0182 - lr: 0.0010\n",
      "Epoch 4/20\n",
      "16/16 [==============================] - 47s 3s/step - loss: 3.7851 - accuracy: 0.0246 - val_loss: 3.7841 - val_accuracy: 0.0260 - lr: 0.0010\n",
      "Epoch 5/20\n",
      "16/16 [==============================] - 47s 3s/step - loss: 3.7856 - accuracy: 0.0241 - val_loss: 3.7836 - val_accuracy: 0.0234 - lr: 0.0010\n",
      "Epoch 6/20\n",
      "16/16 [==============================] - 47s 3s/step - loss: 3.7850 - accuracy: 0.0200 - val_loss: 3.7819 - val_accuracy: 0.0260 - lr: 0.0010\n",
      "Epoch 7/20\n",
      "16/16 [==============================] - 50s 3s/step - loss: 3.7779 - accuracy: 0.0221 - val_loss: 3.7212 - val_accuracy: 0.0234 - lr: 0.0010\n",
      "Epoch 8/20\n",
      "16/16 [==============================] - 54s 3s/step - loss: 3.6765 - accuracy: 0.0273 - val_loss: 3.5833 - val_accuracy: 0.0495 - lr: 0.0010\n",
      "Epoch 9/20\n",
      "16/16 [==============================] - 50s 3s/step - loss: 3.5586 - accuracy: 0.0472 - val_loss: 3.4114 - val_accuracy: 0.0651 - lr: 0.0010\n",
      "Epoch 10/20\n",
      "16/16 [==============================] - 51s 3s/step - loss: 3.3240 - accuracy: 0.0637 - val_loss: 3.0563 - val_accuracy: 0.0781 - lr: 0.0010\n",
      "Epoch 11/20\n",
      "16/16 [==============================] - 50s 3s/step - loss: 3.0266 - accuracy: 0.1104 - val_loss: 2.8533 - val_accuracy: 0.1146 - lr: 0.0010\n",
      "Epoch 12/20\n",
      "16/16 [==============================] - 51s 3s/step - loss: 2.7584 - accuracy: 0.1730 - val_loss: 2.4930 - val_accuracy: 0.2109 - lr: 0.0010\n",
      "Epoch 13/20\n",
      "16/16 [==============================] - 51s 3s/step - loss: 2.4450 - accuracy: 0.2490 - val_loss: 2.2694 - val_accuracy: 0.2995 - lr: 0.0010\n",
      "Epoch 14/20\n",
      "16/16 [==============================] - 52s 3s/step - loss: 2.1086 - accuracy: 0.3342 - val_loss: 1.9287 - val_accuracy: 0.4089 - lr: 0.0010\n",
      "Epoch 15/20\n",
      "16/16 [==============================] - 50s 3s/step - loss: 1.7452 - accuracy: 0.4358 - val_loss: 1.7351 - val_accuracy: 0.4323 - lr: 0.0010\n",
      "Epoch 16/20\n",
      "16/16 [==============================] - 51s 3s/step - loss: 1.5550 - accuracy: 0.4954 - val_loss: 1.5882 - val_accuracy: 0.5104 - lr: 0.0010\n",
      "Epoch 17/20\n",
      "16/16 [==============================] - 51s 3s/step - loss: 1.3400 - accuracy: 0.5667 - val_loss: 1.6332 - val_accuracy: 0.5052 - lr: 0.0010\n",
      "Epoch 18/20\n",
      "16/16 [==============================] - 51s 3s/step - loss: 1.2019 - accuracy: 0.6247 - val_loss: 1.6646 - val_accuracy: 0.5443 - lr: 0.0010\n",
      "Epoch 19/20\n",
      "16/16 [==============================] - 51s 3s/step - loss: 1.0067 - accuracy: 0.6761 - val_loss: 1.4285 - val_accuracy: 0.6198 - lr: 0.0010\n",
      "Epoch 20/20\n",
      "16/16 [==============================] - 51s 3s/step - loss: 0.9485 - accuracy: 0.7156 - val_loss: 1.4936 - val_accuracy: 0.6224 - lr: 0.0010\n",
      "[INFO] Serializing network...\n"
     ]
    },
    {
     "name": "stderr",
     "output_type": "stream",
     "text": [
      "WARNING:absl:Found untraced functions such as _jit_compiled_convolution_op, _jit_compiled_convolution_op, _jit_compiled_convolution_op, _jit_compiled_convolution_op, _jit_compiled_convolution_op while saving (showing 5 of 5). These functions will not be directly callable after loading.\n"
     ]
    },
    {
     "name": "stdout",
     "output_type": "stream",
     "text": [
      "INFO:tensorflow:Assets written to: .\\trained_model\\assets\n"
     ]
    },
    {
     "name": "stderr",
     "output_type": "stream",
     "text": [
      "INFO:tensorflow:Assets written to: .\\trained_model\\assets\n"
     ]
    },
    {
     "name": "stdout",
     "output_type": "stream",
     "text": [
      "[INFO] Done!\n"
     ]
    }
   ],
   "source": [
    "# Train the network\n",
    "print(\"[INFO] Training network ...\")\n",
    "H = alexnet.fit_generator(\n",
    "    train_generator,\n",
    "    validation_data=val_generator,\n",
    "    steps_per_epoch=train_generator.samples // BATCH_SIZE,\n",
    "    validation_steps = val_generator.samples // BATCH_SIZE,\n",
    "    epochs=EPOCHS, verbose=1, callbacks=[reduce_lr])\n",
    "# save the model to disk\n",
    "print(\"[INFO] Serializing network...\")\n",
    "alexnet.save(MODEL_PATH + os.path.sep + \"trained_model\")\n",
    "print(\"[INFO] Done!\")"
   ]
  },
  {
   "cell_type": "code",
   "execution_count": 18,
   "metadata": {},
   "outputs": [
    {
     "data": {
      "image/png": "[encoded data removed]",
      "text/plain": [
       "<Figure size 432x288 with 1 Axes>"
      ]
     },
     "metadata": {},
     "output_type": "display_data"
    }
   ],
   "source": [
    "import matplotlib.pyplot as plt\n",
    "# Plot the training loss and accuracy\n",
    "plt.style.use(\"ggplot\")\n",
    "plt.figure()\n",
    "N = EPOCHS\n",
    "plt.plot(np.arange(0, N), H.history[\"loss\"], label=\"train_loss\")\n",
    "plt.plot(np.arange(0, N), H.history[\"val_loss\"], label=\"val_loss\")\n",
    "plt.plot(np.arange(0, N), H.history[\"accuracy\"], label=\"train_acc\")\n",
    "plt.plot(np.arange(0, N), H.history[\"val_accuracy\"], label=\"val_acc\")\n",
    "plt.title(\"Training Loss and Accuracy on Dataset\")\n",
    "plt.xlabel(\"Epoch #\")\n",
    "plt.ylabel(\"Loss/Accuracy\")\n",
    "plt.legend(loc=\"lower left\")\n",
    "plt.savefig(MODEL_PATH + os.path.sep + \"plot.png\")\n",
    "\n",
    "\n",
    "\n"
   ]
  },
  {
   "cell_type": "code",
   "execution_count": null,
   "metadata": {},
   "outputs": [],
   "source": [
    "# save the model\n",
    "model.save('pashto_model.h5')\n",
    "\n",
    "# labels = [\n",
    "#     'alif','','be','chay','daal','fay','gaaf','ghain','hay','haye','jim','kaaf','khay','khin','laam','mim','num',\n",
    "#     'nunr','pe','qaaf','raay','ray','se','shin','sin','swaad','te','Tey','tsay','tway','tzay','wao','yay','yay1','yay2','yay3',\n",
    "#     'yay4','zaal','zay','zhay','zhayghay','zwad','zway'\n",
    "#     ]"
   ]
  }
 ],
 "metadata": {
  "kernelspec": {
   "display_name": "Python 3.9.12 ('base')",
   "language": "python",
   "name": "python3"
  },
  "language_info": {
   "codemirror_mode": {
    "name": "ipython",
    "version": 3
   },
   "file_extension": ".py",
   "mimetype": "text/x-python",
   "name": "python",
   "nbconvert_exporter": "python",
   "pygments_lexer": "ipython3",
   "version": "3.9.12"
  },
  "orig_nbformat": 4,
  "vscode": {
   "interpreter": {
    "hash": "f4fcf7e7162a09edaae15d100e1b990957280eb9b05b23e2cf7e4119f8b27914"
   }
  }
 },
 "nbformat": 4,
 "nbformat_minor": 2
}
